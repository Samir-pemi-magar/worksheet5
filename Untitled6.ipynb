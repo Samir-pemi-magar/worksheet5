{
  "nbformat": 4,
  "nbformat_minor": 0,
  "metadata": {
    "colab": {
      "provenance": []
    },
    "kernelspec": {
      "name": "python3",
      "display_name": "Python 3"
    },
    "language_info": {
      "name": "python"
    }
  },
  "cells": [
    {
      "cell_type": "code",
      "execution_count": 1,
      "metadata": {
        "id": "RZTa9NsxRe_I"
      },
      "outputs": [],
      "source": [
        "import numpy as np\n",
        "import pandas as pd"
      ]
    },
    {
      "cell_type": "code",
      "source": [
        "data = pd.read_csv('/content/drive/MyDrive/concept and technologies of ai/student.csv')"
      ],
      "metadata": {
        "id": "dyQlbl4_Rixe"
      },
      "execution_count": 2,
      "outputs": []
    },
    {
      "cell_type": "code",
      "source": [
        "print(data.head())"
      ],
      "metadata": {
        "colab": {
          "base_uri": "https://localhost:8080/"
        },
        "id": "MhOT3afhRjTj",
        "outputId": "19d4f57f-0839-4da4-a837-32ccf8852433"
      },
      "execution_count": 3,
      "outputs": [
        {
          "output_type": "stream",
          "name": "stdout",
          "text": [
            "   Math  Reading  Writing\n",
            "0    48       68       63\n",
            "1    62       81       72\n",
            "2    79       80       78\n",
            "3    76       83       79\n",
            "4    59       64       62\n"
          ]
        }
      ]
    },
    {
      "cell_type": "code",
      "source": [
        "print(data.tail())"
      ],
      "metadata": {
        "colab": {
          "base_uri": "https://localhost:8080/"
        },
        "id": "smlstI9lRjvt",
        "outputId": "7b5e12a3-0786-429b-9b0d-d9463e94e24f"
      },
      "execution_count": 4,
      "outputs": [
        {
          "output_type": "stream",
          "name": "stdout",
          "text": [
            "     Math  Reading  Writing\n",
            "995    72       74       70\n",
            "996    73       86       90\n",
            "997    89       87       94\n",
            "998    83       82       78\n",
            "999    66       66       72\n"
          ]
        }
      ]
    },
    {
      "cell_type": "code",
      "source": [
        "print(data.info())"
      ],
      "metadata": {
        "colab": {
          "base_uri": "https://localhost:8080/"
        },
        "id": "E5vmUIHjRkFf",
        "outputId": "cffdeac9-cea1-43fa-c56b-20f0ea82fb38"
      },
      "execution_count": 5,
      "outputs": [
        {
          "output_type": "stream",
          "name": "stdout",
          "text": [
            "<class 'pandas.core.frame.DataFrame'>\n",
            "RangeIndex: 1000 entries, 0 to 999\n",
            "Data columns (total 3 columns):\n",
            " #   Column   Non-Null Count  Dtype\n",
            "---  ------   --------------  -----\n",
            " 0   Math     1000 non-null   int64\n",
            " 1   Reading  1000 non-null   int64\n",
            " 2   Writing  1000 non-null   int64\n",
            "dtypes: int64(3)\n",
            "memory usage: 23.6 KB\n",
            "None\n"
          ]
        }
      ]
    },
    {
      "cell_type": "code",
      "source": [
        "print(data.describe())"
      ],
      "metadata": {
        "colab": {
          "base_uri": "https://localhost:8080/"
        },
        "id": "UI_PZZ76RxL4",
        "outputId": "cbafb04e-cc00-4a96-be26-c9ba425656f0"
      },
      "execution_count": 6,
      "outputs": [
        {
          "output_type": "stream",
          "name": "stdout",
          "text": [
            "              Math      Reading      Writing\n",
            "count  1000.000000  1000.000000  1000.000000\n",
            "mean     67.290000    69.872000    68.616000\n",
            "std      15.085008    14.657027    15.241287\n",
            "min      13.000000    19.000000    14.000000\n",
            "25%      58.000000    60.750000    58.000000\n",
            "50%      68.000000    70.000000    69.500000\n",
            "75%      78.000000    81.000000    79.000000\n",
            "max     100.000000   100.000000   100.000000\n"
          ]
        }
      ]
    },
    {
      "cell_type": "markdown",
      "source": [],
      "metadata": {
        "id": "JbO9MP0DSy-O"
      }
    },
    {
      "cell_type": "code",
      "source": [
        "import numpy as np\n",
        "\n",
        "def cost_function(X, Y, W):\n",
        "    \"\"\"\n",
        "    Computes the Mean Squared Error cost for linear regression.\n",
        "\n",
        "    Parameters:\n",
        "    X: Feature matrix (m x n)\n",
        "    Y: Target vector (m x 1)\n",
        "    W: Weight vector (n x 1)\n",
        "\n",
        "    Returns:\n",
        "    cost: The computed MSE cost\n",
        "    \"\"\"\n",
        "    m = len(Y)\n",
        "    Y_pred = np.dot(X, W)\n",
        "    cost = (1 / (2 * m)) * np.sum((Y_pred - Y) ** 2)\n",
        "    return cost\n",
        "\n",
        "# Test case for the cost function\n",
        "X_test_case = np.array([[1, 3, 5], [2, 4, 6]])  # Shape (2, 3)\n",
        "Y_test_case = np.array([3, 7])  # Shape (2,)\n",
        "W_test_case = np.array([1, 1, 1])  # Shape (3,)\n",
        "\n",
        "cost = cost_function(X_test_case, Y_test_case, W_test_case)\n",
        "print(\"\\nTest Case - Cost Function Output:\", cost)  # This should work correctly now\n"
      ],
      "metadata": {
        "colab": {
          "base_uri": "https://localhost:8080/"
        },
        "id": "574r6OcsSzm1",
        "outputId": "c3587a99-b40c-4531-9c7b-c2879ccd058f"
      },
      "execution_count": 7,
      "outputs": [
        {
          "output_type": "stream",
          "name": "stdout",
          "text": [
            "\n",
            "Test Case - Cost Function Output: 15.25\n"
          ]
        }
      ]
    },
    {
      "cell_type": "code",
      "source": [
        "def gradient_descent(X, Y, W, alpha, iterations):\n",
        "    \"\"\"\n",
        "    Performs gradient descent to learn the parameters (weights).\n",
        "\n",
        "    Parameters:\n",
        "    X: Feature matrix (m x n)\n",
        "    Y: Target vector (m x 1)\n",
        "    W: Initial guess for parameters (n x 1)\n",
        "    alpha: Learning rate\n",
        "    iterations: Number of iterations for gradient descent\n",
        "\n",
        "    Returns:\n",
        "    W_update: Updated weight vector after gradient descent\n",
        "    cost_history: History of cost values over iterations\n",
        "    \"\"\"\n",
        "    m = len(Y)\n",
        "    cost_history = []\n",
        "\n",
        "    for iteration in range(iterations):\n",
        "        Y_pred = np.dot(X, W)\n",
        "        loss = Y_pred - Y\n",
        "        dw = (1 / m) * np.dot(X.T, loss)\n",
        "        W = W - alpha * dw\n",
        "        cost = cost_function(X, Y, W)\n",
        "        cost_history.append(cost)\n",
        "\n",
        "    return W, cost_history\n",
        "np.random.seed(0)\n",
        "X_train_random = np.random.rand(100, 3)\n",
        "Y_train_random = np.random.rand(100)\n",
        "W_random = np.random.rand(3)\n",
        "\n",
        "alpha = 0.01\n",
        "iterations = 1000\n",
        "final_params, cost_history = gradient_descent(X_train_random, Y_train_random, W_random, alpha, iterations)\n",
        "print(\"\\nFinal Parameters from Gradient Descent:\", final_params)\n"
      ],
      "metadata": {
        "colab": {
          "base_uri": "https://localhost:8080/"
        },
        "id": "VI8uFXFsTO1P",
        "outputId": "fa7cce35-0383-4013-ad52-3e5a3b8ba935"
      },
      "execution_count": 8,
      "outputs": [
        {
          "output_type": "stream",
          "name": "stdout",
          "text": [
            "\n",
            "Final Parameters from Gradient Descent: [0.20551667 0.54295081 0.10388027]\n"
          ]
        }
      ]
    },
    {
      "cell_type": "code",
      "source": [
        "\n",
        "def rmse(Y, Y_pred):\n",
        "    \"\"\"\n",
        "    Calculates the Root Mean Squared Error (RMSE) between actual and predicted values.\n",
        "\n",
        "    Parameters:\n",
        "    Y: Actual target values\n",
        "    Y_pred: Predicted target values\n",
        "\n",
        "    Returns:\n",
        "    rmse: Root Mean Squared Error\n",
        "    \"\"\"\n",
        "    return np.sqrt(np.mean((Y - Y_pred) ** 2))\n",
        "def r2(Y, Y_pred):\n",
        "    \"\"\"\n",
        "    Calculates the R-squared value, indicating the goodness of fit.\n",
        "\n",
        "    Parameters:\n",
        "    Y: Actual target values\n",
        "    Y_pred: Predicted target values\n",
        "\n",
        "    Returns:\n",
        "    r2: R-squared value\n",
        "    \"\"\"\n",
        "    ss_tot = np.sum((Y - np.mean(Y)) ** 2)\n",
        "    ss_res = np.sum((Y - Y_pred) ** 2)\n",
        "    return 1 - (ss_res / ss_tot)\n"
      ],
      "metadata": {
        "id": "pyzt_P0JTRP9"
      },
      "execution_count": 9,
      "outputs": []
    },
    {
      "cell_type": "code",
      "source": [
        "from sklearn.model_selection import train_test_split\n",
        "X = data[['Math', 'Reading']].values\n",
        "Y = data['Writing'].values\n",
        "\n",
        "X_train, X_test, Y_train, Y_test = train_test_split(X, Y, test_size=0.2, random_state=42)\n",
        "\n",
        "W_init = np.random.rand(X_train.shape[1])\n",
        "\n",
        "alpha = 0.01\n",
        "iterations = 1000\n",
        "\n",
        "final_weights, cost_history = gradient_descent(X_train, Y_train, W_init, alpha, iterations)\n",
        "\n",
        "Y_pred_test = np.dot(X_test, final_weights)\n",
        "test_rmse = rmse(Y_test, Y_pred_test)\n",
        "test_r2 = r2(Y_test, Y_pred_test)\n",
        "\n",
        "print(\"\\nFinal learned weights:\", final_weights)\n",
        "print(\"\\nFirst 10 iterations of cost history:\", cost_history[:10])\n",
        "print(\"\\nRMSE on the test set:\", test_rmse)\n",
        "print(\"\\nR² on the test set:\", test_r2)\n"
      ],
      "metadata": {
        "id": "M1-eQ_h8TWTF",
        "colab": {
          "base_uri": "https://localhost:8080/"
        },
        "outputId": "d449033c-da7b-4ff9-fbfd-1612dc35b4ae"
      },
      "execution_count": 10,
      "outputs": [
        {
          "output_type": "stream",
          "name": "stdout",
          "text": [
            "\n",
            "Final learned weights: [nan nan]\n",
            "\n",
            "First 10 iterations of cost history: [15351268.954248587, 145113316380.98633, 1371736282490561.0, 1.2966834993323012e+19, 1.2257371324959786e+23, 1.1586725047038135e+27, 1.0952772316057843e+31, 1.0353505491879156e+35, 9.787026779805638e+38, 9.251542220532265e+42]\n",
            "\n",
            "RMSE on the test set: nan\n",
            "\n",
            "R² on the test set: nan\n"
          ]
        },
        {
          "output_type": "stream",
          "name": "stderr",
          "text": [
            "/usr/local/lib/python3.10/dist-packages/numpy/core/fromnumeric.py:88: RuntimeWarning: overflow encountered in reduce\n",
            "  return ufunc.reduce(obj, axis, dtype, out, **passkwargs)\n",
            "<ipython-input-7-c857aceea0e3>:17: RuntimeWarning: overflow encountered in square\n",
            "  cost = (1 / (2 * m)) * np.sum((Y_pred - Y) ** 2)\n",
            "<ipython-input-8-21aeed88d363>:23: RuntimeWarning: invalid value encountered in subtract\n",
            "  W = W - alpha * dw\n"
          ]
        }
      ]
    }
  ]
}